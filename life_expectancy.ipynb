{
 "cells": [
  {
   "cell_type": "markdown",
   "metadata": {},
   "source": [
    "## Project Goals\n",
    "This project will investigate if there is a strong correlation between the economic output of a country and the life expectancy of its citizens.\n",
    "\n",
    "The goals are to prepare data, followed by analysis with plots, and seek to explain the findings from the study.\n",
    "\n",
    "Here are a few questions that this project will seek to answer:\n",
    "\n",
    "+ Has life expectancy increased over time in the six nations?\n",
    "+ Has GDP increased over time in the six nations?\n",
    "+ Is there a correlation between GDP and life expectancy of a country?\n",
    "+ What is the average life expectancy in these nations?\n",
    "+ What is the distribution of that life expectancy?\n",
    "\n",
    "**Data sources**\n",
    "\n",
    "- GDP Source: [World Bank](https://data.worldbank.org/indicator/NY.GDP.MKTP.CD) national accounts data, and OECD National Accounts data files.\n",
    "\n",
    "- Life expectancy Data Source: [World Health Organization](http://apps.who.int/gho/data/node.main.688)\n",
    "\n",
    "### Getting Ready"
   ]
  },
  {
   "cell_type": "code",
   "execution_count": 4,
   "metadata": {},
   "outputs": [
    {
     "data": {
      "text/html": [
       "<div>\n",
       "<style scoped>\n",
       "    .dataframe tbody tr th:only-of-type {\n",
       "        vertical-align: middle;\n",
       "    }\n",
       "\n",
       "    .dataframe tbody tr th {\n",
       "        vertical-align: top;\n",
       "    }\n",
       "\n",
       "    .dataframe thead th {\n",
       "        text-align: right;\n",
       "    }\n",
       "</style>\n",
       "<table border=\"1\" class=\"dataframe\">\n",
       "  <thead>\n",
       "    <tr style=\"text-align: right;\">\n",
       "      <th></th>\n",
       "      <th>Country</th>\n",
       "      <th>Year</th>\n",
       "      <th>Life expectancy at birth (years)</th>\n",
       "      <th>GDP</th>\n",
       "    </tr>\n",
       "  </thead>\n",
       "  <tbody>\n",
       "    <tr>\n",
       "      <th>0</th>\n",
       "      <td>Chile</td>\n",
       "      <td>2000</td>\n",
       "      <td>77.3</td>\n",
       "      <td>7.786093e+10</td>\n",
       "    </tr>\n",
       "    <tr>\n",
       "      <th>1</th>\n",
       "      <td>Chile</td>\n",
       "      <td>2001</td>\n",
       "      <td>77.3</td>\n",
       "      <td>7.097992e+10</td>\n",
       "    </tr>\n",
       "    <tr>\n",
       "      <th>2</th>\n",
       "      <td>Chile</td>\n",
       "      <td>2002</td>\n",
       "      <td>77.8</td>\n",
       "      <td>6.973681e+10</td>\n",
       "    </tr>\n",
       "    <tr>\n",
       "      <th>3</th>\n",
       "      <td>Chile</td>\n",
       "      <td>2003</td>\n",
       "      <td>77.9</td>\n",
       "      <td>7.564346e+10</td>\n",
       "    </tr>\n",
       "    <tr>\n",
       "      <th>4</th>\n",
       "      <td>Chile</td>\n",
       "      <td>2004</td>\n",
       "      <td>78.0</td>\n",
       "      <td>9.921039e+10</td>\n",
       "    </tr>\n",
       "  </tbody>\n",
       "</table>\n",
       "</div>"
      ],
      "text/plain": [
       "  Country  Year  Life expectancy at birth (years)           GDP\n",
       "0   Chile  2000                              77.3  7.786093e+10\n",
       "1   Chile  2001                              77.3  7.097992e+10\n",
       "2   Chile  2002                              77.8  6.973681e+10\n",
       "3   Chile  2003                              77.9  7.564346e+10\n",
       "4   Chile  2004                              78.0  9.921039e+10"
      ]
     },
     "execution_count": 4,
     "metadata": {},
     "output_type": "execute_result"
    }
   ],
   "source": [
    "# Import libraries\n",
    "from matplotlib import pyplot as plt\n",
    "import pandas as pd\n",
    "import seaborn as sns\n",
    "%matplotlib inline\n",
    "\n",
    "# Load in the data\n",
    "df = pd.read_csv(\"all_data.csv\")\n",
    "df.head()"
   ]
  }
 ],
 "metadata": {
  "kernelspec": {
   "display_name": "Python 3.9.12 ('base')",
   "language": "python",
   "name": "python3"
  },
  "language_info": {
   "codemirror_mode": {
    "name": "ipython",
    "version": 3
   },
   "file_extension": ".py",
   "mimetype": "text/x-python",
   "name": "python",
   "nbconvert_exporter": "python",
   "pygments_lexer": "ipython3",
   "version": "3.9.12"
  },
  "orig_nbformat": 4,
  "vscode": {
   "interpreter": {
    "hash": "bad3e0717367b3cff4aae9c6c5645f8f35fe4ca9a016dd7720b001d80364b124"
   }
  }
 },
 "nbformat": 4,
 "nbformat_minor": 2
}
